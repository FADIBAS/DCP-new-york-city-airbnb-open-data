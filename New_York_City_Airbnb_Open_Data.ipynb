{
  "nbformat": 4,
  "nbformat_minor": 0,
  "metadata": {
    "colab": {
      "provenance": []
    },
    "kernelspec": {
      "name": "python3",
      "display_name": "Python 3"
    },
    "language_info": {
      "name": "python"
    }
  },
  "cells": [
    {
      "cell_type": "code",
      "source": [
        "import pandas as pd\n",
        "import os\n",
        "import matplotlib.pyplot as plt\n",
        "\n",
        "def clone_repo(repo_url):\n",
        "    repo_name = repo_url.split('/')[-1].replace('.git', '')\n",
        "    if not os.path.exists(repo_name):\n",
        "        print(f\"Cloning repository from {repo_url}...\")\n",
        "        os.system(f\"git clone {repo_url}\")\n",
        "    else:\n",
        "        print(f\"Repository {repo_name} already cloned.\")\n",
        "    return repo_name\n",
        "\n",
        "# Clone the New York City Airbnb Open Data repository\n",
        "repo_url = \"https://github.com/ine-rmotr-projects/DCP-new-york-city-airbnb-open-data.git\"\n",
        "repo_name = clone_repo(repo_url)\n",
        "\n",
        "# Locate the dataset file\n",
        "possible_files = [\"AB_NYC_2019.csv\", \"data/AB_NYC_2019.csv\"]\n",
        "data_file = None\n",
        "for file in possible_files:\n",
        "    file_path = os.path.join(repo_name, file)\n",
        "    if os.path.exists(file_path):\n",
        "        data_file = file_path\n",
        "        break\n",
        "\n",
        "if not data_file:\n",
        "    raise FileNotFoundError(\"Data file not found in the repository. Please check the repository structure.\")\n",
        "\n",
        "# Load the dataset\n",
        "data = pd.read_csv(data_file)\n",
        "\n",
        "# Preview the data\n",
        "print(\"Preview of the dataset:\")\n",
        "print(data.head())\n",
        "\n",
        "# Display basic information about the dataset\n",
        "print(\"\\nDataset information:\")\n",
        "print(data.info())\n",
        "\n",
        "# Check for missing values\n",
        "missing_values = data.isnull().sum()\n",
        "print(\"\\nMissing values:\")\n",
        "print(missing_values)\n",
        "\n",
        "# Data Cleaning\n",
        "# 1. Fill missing values in 'reviews_per_month' with 0\n",
        "data['reviews_per_month'] = data['reviews_per_month'].fillna(0)\n",
        "\n",
        "# 2. Drop rows with missing values in critical columns like 'name' or 'host_name'\n",
        "data = data.dropna(subset=['name', 'host_name'])\n",
        "\n",
        "print(\"\\nData cleaned. Remaining missing values:\")\n",
        "print(data.isnull().sum())\n",
        "\n",
        "# Analyze the dataset\n",
        "# 1. Distribution of Airbnb listings by neighborhood group\n",
        "neighborhood_group_counts = data['neighbourhood_group'].value_counts()\n",
        "print(\"\\nListings by neighborhood group:\")\n",
        "print(neighborhood_group_counts)\n",
        "\n",
        "# 2. Average price by neighborhood group\n",
        "average_price_by_group = data.groupby('neighbourhood_group')['price'].mean()\n",
        "print(\"\\nAverage price by neighborhood group:\")\n",
        "print(average_price_by_group)\n",
        "\n",
        "# 3. Top 5 most expensive neighborhoods\n",
        "top_expensive_neighborhoods = data.groupby('neighbourhood')['price'].mean().sort_values(ascending=False).head(5)\n",
        "print(\"\\nTop 5 most expensive neighborhoods:\")\n",
        "print(top_expensive_neighborhoods)\n",
        "\n",
        "# Visualization\n",
        "# 1. Plot distribution of listings by neighborhood group\n",
        "neighborhood_group_counts.plot(kind='bar', title=\"Distribution of Listings by Neighborhood Group\", figsize=(8, 6))\n",
        "plt.xlabel(\"Neighborhood Group\")\n",
        "plt.ylabel(\"Number of Listings\")\n",
        "plt.show()\n",
        "\n",
        "# 2. Plot average price by neighborhood group\n",
        "average_price_by_group.plot(kind='bar', title=\"Average Price by Neighborhood Group\", color='orange', figsize=(8, 6))\n",
        "plt.xlabel(\"Neighborhood Group\")\n",
        "plt.ylabel(\"Average Price\")\n",
        "plt.show()\n",
        "\n",
        "# 3. Plot top 5 most expensive neighborhoods\n",
        "top_expensive_neighborhoods.plot(kind='bar', title=\"Top 5 Most Expensive Neighborhoods\", color='green', figsize=(8, 6))\n",
        "plt.xlabel(\"Neighborhood\")\n",
        "plt.ylabel(\"Average Price\")\n",
        "plt.show()\n",
        "\n",
        "# Save processed data to a new file (optional)\n",
        "output_file = os.path.join(repo_name, \"processed_airbnb_data.csv\")\n",
        "data.to_csv(output_file, index=False)\n",
        "print(f\"Processed data saved to {output_file}\")\n",
        "\n"
      ],
      "metadata": {
        "colab": {
          "base_uri": "https://localhost:8080/",
          "height": 228
        },
        "id": "aRRyxat6lYZt",
        "outputId": "984d11aa-9186-4697-bf87-a3d58a491f8c"
      },
      "execution_count": 2,
      "outputs": [
        {
          "output_type": "stream",
          "name": "stdout",
          "text": [
            "Cloning repository from https://github.com/ine-rmotr-projects/RDP-health-and-obesity-trends.git...\n"
          ]
        },
        {
          "output_type": "error",
          "ename": "FileNotFoundError",
          "evalue": "Data file not found: RDP-health-and-obesity-trends/data/obesity-cleaned.csv",
          "traceback": [
            "\u001b[0;31m---------------------------------------------------------------------------\u001b[0m",
            "\u001b[0;31mFileNotFoundError\u001b[0m                         Traceback (most recent call last)",
            "\u001b[0;32m<ipython-input-2-4ecb1ae5b11b>\u001b[0m in \u001b[0;36m<cell line: 20>\u001b[0;34m()\u001b[0m\n\u001b[1;32m     19\u001b[0m \u001b[0mdata_file\u001b[0m \u001b[0;34m=\u001b[0m \u001b[0mos\u001b[0m\u001b[0;34m.\u001b[0m\u001b[0mpath\u001b[0m\u001b[0;34m.\u001b[0m\u001b[0mjoin\u001b[0m\u001b[0;34m(\u001b[0m\u001b[0mrepo_name\u001b[0m\u001b[0;34m,\u001b[0m \u001b[0;34m\"data\"\u001b[0m\u001b[0;34m,\u001b[0m \u001b[0;34m\"obesity-cleaned.csv\"\u001b[0m\u001b[0;34m)\u001b[0m  \u001b[0;31m# Adjust path if necessary\u001b[0m\u001b[0;34m\u001b[0m\u001b[0;34m\u001b[0m\u001b[0m\n\u001b[1;32m     20\u001b[0m \u001b[0;32mif\u001b[0m \u001b[0;32mnot\u001b[0m \u001b[0mos\u001b[0m\u001b[0;34m.\u001b[0m\u001b[0mpath\u001b[0m\u001b[0;34m.\u001b[0m\u001b[0mexists\u001b[0m\u001b[0;34m(\u001b[0m\u001b[0mdata_file\u001b[0m\u001b[0;34m)\u001b[0m\u001b[0;34m:\u001b[0m\u001b[0;34m\u001b[0m\u001b[0;34m\u001b[0m\u001b[0m\n\u001b[0;32m---> 21\u001b[0;31m     \u001b[0;32mraise\u001b[0m \u001b[0mFileNotFoundError\u001b[0m\u001b[0;34m(\u001b[0m\u001b[0;34mf\"Data file not found: {data_file}\"\u001b[0m\u001b[0;34m)\u001b[0m\u001b[0;34m\u001b[0m\u001b[0;34m\u001b[0m\u001b[0m\n\u001b[0m\u001b[1;32m     22\u001b[0m \u001b[0;34m\u001b[0m\u001b[0m\n\u001b[1;32m     23\u001b[0m \u001b[0mdata\u001b[0m \u001b[0;34m=\u001b[0m \u001b[0mpd\u001b[0m\u001b[0;34m.\u001b[0m\u001b[0mread_csv\u001b[0m\u001b[0;34m(\u001b[0m\u001b[0mdata_file\u001b[0m\u001b[0;34m)\u001b[0m\u001b[0;34m\u001b[0m\u001b[0;34m\u001b[0m\u001b[0m\n",
            "\u001b[0;31mFileNotFoundError\u001b[0m: Data file not found: RDP-health-and-obesity-trends/data/obesity-cleaned.csv"
          ]
        }
      ]
    }
  ]
}